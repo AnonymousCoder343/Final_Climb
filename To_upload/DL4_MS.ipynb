{
 "cells": [
  {
   "cell_type": "code",
   "execution_count": 3,
   "metadata": {
    "_cell_guid": "b1076dfc-b9ad-4769-8c92-a6c4dae69d19",
    "_uuid": "8f2839f25d086af736a60e9eeb907d3b93b6e0e5",
    "execution": {
     "iopub.execute_input": "2023-04-16T15:49:48.080896Z",
     "iopub.status.busy": "2023-04-16T15:49:48.080597Z",
     "iopub.status.idle": "2023-04-16T15:49:48.112687Z",
     "shell.execute_reply": "2023-04-16T15:49:48.111857Z",
     "shell.execute_reply.started": "2023-04-16T15:49:48.080847Z"
    },
    "id": "bFpVTu8J1IJ3",
    "outputId": "40c0a801-605d-4b57-ebef-145fa66b4310"
   },
   "outputs": [],
   "source": [
    "\n",
    "import numpy as np # linear algebra\n",
    "import pandas as pd # data processing, CSV file I/O (e.g. pd.read_csv)\n",
    "import matplotlib.pyplot as plt\n",
    "\n",
    "# Input data files are available in the \"../input/\" directory.\n",
    "# For example, running this (by clicking run or pressing Shift+Enter) will list the files in the input directory\n",
    "\n",
    "# Any results you write to the current directory are saved as output."
   ]
  },
  {
   "cell_type": "code",
   "execution_count": 4,
   "metadata": {
    "_cell_guid": "79c7e3d0-c299-4dcb-8224-4455121ee9b0",
    "_uuid": "d629ff2d2480ee46fbb7e2d37f6b5fab8052498a",
    "execution": {
     "iopub.execute_input": "2023-04-16T15:49:48.114319Z",
     "iopub.status.busy": "2023-04-16T15:49:48.114015Z",
     "iopub.status.idle": "2023-04-16T15:49:48.155254Z",
     "shell.execute_reply": "2023-04-16T15:49:48.154298Z",
     "shell.execute_reply.started": "2023-04-16T15:49:48.114238Z"
    },
    "id": "4DOOPhRn1IJ6"
   },
   "outputs": [],
   "source": [
    "df_train = pd.read_csv(\"Google_Stock_Price_Train.csv\")\n",
    "df_test=pd.read_csv(\"Google_Stock_Price_Test.csv\")"
   ]
  },
  {
   "cell_type": "code",
   "execution_count": 5,
   "metadata": {
    "_uuid": "9de88d689da1a279477470f6cef999c0a45bf98a",
    "execution": {
     "iopub.execute_input": "2023-04-16T15:49:48.156941Z",
     "iopub.status.busy": "2023-04-16T15:49:48.156662Z",
     "iopub.status.idle": "2023-04-16T15:49:48.219250Z",
     "shell.execute_reply": "2023-04-16T15:49:48.218422Z",
     "shell.execute_reply.started": "2023-04-16T15:49:48.156887Z"
    },
    "id": "wBU5uwrj1IJ8",
    "outputId": "f2ca7e42-346f-4762-c043-897449b4a111"
   },
   "outputs": [
    {
     "data": {
      "text/html": [
       "<div>\n",
       "<style scoped>\n",
       "    .dataframe tbody tr th:only-of-type {\n",
       "        vertical-align: middle;\n",
       "    }\n",
       "\n",
       "    .dataframe tbody tr th {\n",
       "        vertical-align: top;\n",
       "    }\n",
       "\n",
       "    .dataframe thead th {\n",
       "        text-align: right;\n",
       "    }\n",
       "</style>\n",
       "<table border=\"1\" class=\"dataframe\">\n",
       "  <thead>\n",
       "    <tr style=\"text-align: right;\">\n",
       "      <th></th>\n",
       "      <th>Date</th>\n",
       "      <th>Open</th>\n",
       "      <th>High</th>\n",
       "      <th>Low</th>\n",
       "      <th>Close</th>\n",
       "      <th>Volume</th>\n",
       "    </tr>\n",
       "  </thead>\n",
       "  <tbody>\n",
       "    <tr>\n",
       "      <th>0</th>\n",
       "      <td>1/3/2012</td>\n",
       "      <td>325.25</td>\n",
       "      <td>332.83</td>\n",
       "      <td>324.97</td>\n",
       "      <td>663.59</td>\n",
       "      <td>7,380,500</td>\n",
       "    </tr>\n",
       "    <tr>\n",
       "      <th>1</th>\n",
       "      <td>1/4/2012</td>\n",
       "      <td>331.27</td>\n",
       "      <td>333.87</td>\n",
       "      <td>329.08</td>\n",
       "      <td>666.45</td>\n",
       "      <td>5,749,400</td>\n",
       "    </tr>\n",
       "    <tr>\n",
       "      <th>2</th>\n",
       "      <td>1/5/2012</td>\n",
       "      <td>329.83</td>\n",
       "      <td>330.75</td>\n",
       "      <td>326.89</td>\n",
       "      <td>657.21</td>\n",
       "      <td>6,590,300</td>\n",
       "    </tr>\n",
       "  </tbody>\n",
       "</table>\n",
       "</div>"
      ],
      "text/plain": [
       "       Date    Open    High     Low   Close     Volume\n",
       "0  1/3/2012  325.25  332.83  324.97  663.59  7,380,500\n",
       "1  1/4/2012  331.27  333.87  329.08  666.45  5,749,400\n",
       "2  1/5/2012  329.83  330.75  326.89  657.21  6,590,300"
      ]
     },
     "execution_count": 5,
     "metadata": {},
     "output_type": "execute_result"
    }
   ],
   "source": [
    "df_train.head(3)"
   ]
  },
  {
   "cell_type": "code",
   "execution_count": 6,
   "metadata": {},
   "outputs": [
    {
     "data": {
      "text/html": [
       "<div>\n",
       "<style scoped>\n",
       "    .dataframe tbody tr th:only-of-type {\n",
       "        vertical-align: middle;\n",
       "    }\n",
       "\n",
       "    .dataframe tbody tr th {\n",
       "        vertical-align: top;\n",
       "    }\n",
       "\n",
       "    .dataframe thead th {\n",
       "        text-align: right;\n",
       "    }\n",
       "</style>\n",
       "<table border=\"1\" class=\"dataframe\">\n",
       "  <thead>\n",
       "    <tr style=\"text-align: right;\">\n",
       "      <th></th>\n",
       "      <th>Date</th>\n",
       "      <th>Open</th>\n",
       "      <th>High</th>\n",
       "      <th>Low</th>\n",
       "      <th>Close</th>\n",
       "      <th>Volume</th>\n",
       "    </tr>\n",
       "  </thead>\n",
       "  <tbody>\n",
       "    <tr>\n",
       "      <th>0</th>\n",
       "      <td>1/3/2017</td>\n",
       "      <td>778.81</td>\n",
       "      <td>789.63</td>\n",
       "      <td>775.80</td>\n",
       "      <td>786.14</td>\n",
       "      <td>1,657,300</td>\n",
       "    </tr>\n",
       "    <tr>\n",
       "      <th>1</th>\n",
       "      <td>1/4/2017</td>\n",
       "      <td>788.36</td>\n",
       "      <td>791.34</td>\n",
       "      <td>783.16</td>\n",
       "      <td>786.90</td>\n",
       "      <td>1,073,000</td>\n",
       "    </tr>\n",
       "    <tr>\n",
       "      <th>2</th>\n",
       "      <td>1/5/2017</td>\n",
       "      <td>786.08</td>\n",
       "      <td>794.48</td>\n",
       "      <td>785.02</td>\n",
       "      <td>794.02</td>\n",
       "      <td>1,335,200</td>\n",
       "    </tr>\n",
       "  </tbody>\n",
       "</table>\n",
       "</div>"
      ],
      "text/plain": [
       "       Date    Open    High     Low   Close     Volume\n",
       "0  1/3/2017  778.81  789.63  775.80  786.14  1,657,300\n",
       "1  1/4/2017  788.36  791.34  783.16  786.90  1,073,000\n",
       "2  1/5/2017  786.08  794.48  785.02  794.02  1,335,200"
      ]
     },
     "execution_count": 6,
     "metadata": {},
     "output_type": "execute_result"
    }
   ],
   "source": [
    "df_test.head(3)"
   ]
  },
  {
   "cell_type": "code",
   "execution_count": 7,
   "metadata": {
    "_uuid": "99cca4c05240bd82c4492c6c3c200925c5c096e5",
    "execution": {
     "iopub.execute_input": "2023-04-16T15:49:48.221146Z",
     "iopub.status.busy": "2023-04-16T15:49:48.220845Z",
     "iopub.status.idle": "2023-04-16T15:49:48.227033Z",
     "shell.execute_reply": "2023-04-16T15:49:48.226197Z",
     "shell.execute_reply.started": "2023-04-16T15:49:48.221088Z"
    },
    "id": "LK85ti721IJ8"
   },
   "outputs": [
    {
     "data": {
      "text/plain": [
       "[<matplotlib.lines.Line2D at 0x23b9e00bdf0>]"
      ]
     },
     "execution_count": 7,
     "metadata": {},
     "output_type": "execute_result"
    },
    {
     "data": {
      "image/png": "[encoded data removed]",
      "text/plain": [
       "<Figure size 432x288 with 1 Axes>"
      ]
     },
     "metadata": {
      "needs_background": "light"
     },
     "output_type": "display_data"
    }
   ],
   "source": [
    "plt.plot(pd.to_datetime(df_train['Date']),df_train['Open'])"
   ]
  },
  {
   "cell_type": "code",
   "execution_count": 8,
   "metadata": {
    "_uuid": "1f00141023a0cc15593c8ef1351883177ca3ba21",
    "execution": {
     "iopub.execute_input": "2023-04-16T15:49:48.228527Z",
     "iopub.status.busy": "2023-04-16T15:49:48.228248Z",
     "iopub.status.idle": "2023-04-16T15:49:48.248658Z",
     "shell.execute_reply": "2023-04-16T15:49:48.247550Z",
     "shell.execute_reply.started": "2023-04-16T15:49:48.228479Z"
    },
    "id": "S7iVUUFX1IJ9",
    "outputId": "93cb197f-4139-4324-c1a8-8f65f178cfd9"
   },
   "outputs": [
    {
     "data": {
      "text/plain": [
       "0       325.25\n",
       "1       331.27\n",
       "2       329.83\n",
       "3       328.34\n",
       "4       322.04\n",
       "         ...  \n",
       "1253    790.90\n",
       "1254    790.68\n",
       "1255    793.70\n",
       "1256    783.33\n",
       "1257    782.75\n",
       "Name: Open, Length: 1258, dtype: float64"
      ]
     },
     "execution_count": 8,
     "metadata": {},
     "output_type": "execute_result"
    }
   ],
   "source": [
    "df_train['Open']"
   ]
  },
  {
   "cell_type": "code",
   "execution_count": 9,
   "metadata": {
    "_uuid": "1abc6fe47fb5c4443767a2e2053cf9999c8a9a5c",
    "execution": {
     "iopub.execute_input": "2023-04-16T15:49:48.250345Z",
     "iopub.status.busy": "2023-04-16T15:49:48.249939Z",
     "iopub.status.idle": "2023-04-16T15:49:49.073833Z",
     "shell.execute_reply": "2023-04-16T15:49:49.072974Z",
     "shell.execute_reply.started": "2023-04-16T15:49:48.250181Z"
    },
    "id": "kcHMqaxz1IJ-"
   },
   "outputs": [],
   "source": [
    "from sklearn.preprocessing import MinMaxScaler\n",
    "sc = MinMaxScaler()\n",
    "X_scaled=sc.fit_transform(df_train[['Open']])"
   ]
  },
  {
   "cell_type": "code",
   "execution_count": null,
   "metadata": {
    "_uuid": "15362ed79df83c13fbddff1889a71f21e968fbc2",
    "execution": {
     "iopub.execute_input": "2023-04-16T15:49:49.075348Z",
     "iopub.status.busy": "2023-04-16T15:49:49.075092Z",
     "iopub.status.idle": "2023-04-16T15:49:49.082002Z",
     "shell.execute_reply": "2023-04-16T15:49:49.080633Z",
     "shell.execute_reply.started": "2023-04-16T15:49:49.075303Z"
    },
    "id": "cILSRTyN1IJ-",
    "outputId": "6b5dbc34-5d86-400d-f16a-b490fb80e812"
   },
   "outputs": [],
   "source": []
  },
  {
   "cell_type": "code",
   "execution_count": 10,
   "metadata": {
    "_uuid": "d0d549e9a4af9ab516c3304fb44d650a815dcedc",
    "execution": {
     "iopub.execute_input": "2023-04-16T15:49:49.084059Z",
     "iopub.status.busy": "2023-04-16T15:49:49.083683Z",
     "iopub.status.idle": "2023-04-16T15:49:49.093928Z",
     "shell.execute_reply": "2023-04-16T15:49:49.092913Z",
     "shell.execute_reply.started": "2023-04-16T15:49:49.083995Z"
    },
    "id": "kM7myGwf1IJ-"
   },
   "outputs": [],
   "source": [
    "x_train = []\n",
    "y_train = []"
   ]
  },
  {
   "cell_type": "code",
   "execution_count": 11,
   "metadata": {
    "_uuid": "4c4f8ba0c635e7da0ba1bc52abf0a42068acdc89",
    "execution": {
     "iopub.execute_input": "2023-04-16T15:49:49.095613Z",
     "iopub.status.busy": "2023-04-16T15:49:49.095373Z",
     "iopub.status.idle": "2023-04-16T15:49:49.112533Z",
     "shell.execute_reply": "2023-04-16T15:49:49.111727Z",
     "shell.execute_reply.started": "2023-04-16T15:49:49.095569Z"
    },
    "id": "fExE-q6I1IKA"
   },
   "outputs": [],
   "source": [
    "for i in range(1198):\n",
    "    row=X_scaled[i:60+i,0]\n",
    "    y=X_scaled[i+60,0]\n",
    "    x_train.append(row)\n",
    "    y_train.append(y)\n",
    "x_train,y_train = np.array(x_train),np.array(y_train)"
   ]
  },
  {
   "cell_type": "code",
   "execution_count": 12,
   "metadata": {
    "_uuid": "360eb79902c77fbba3f16ab47a5ff7593a177478",
    "execution": {
     "iopub.execute_input": "2023-04-16T15:49:49.114070Z",
     "iopub.status.busy": "2023-04-16T15:49:49.113836Z",
     "iopub.status.idle": "2023-04-16T15:49:49.128707Z",
     "shell.execute_reply": "2023-04-16T15:49:49.127743Z",
     "shell.execute_reply.started": "2023-04-16T15:49:49.114033Z"
    },
    "id": "zAyAURIp1IKA",
    "outputId": "ca1c0ec4-8cca-4e97-ee72-84c46e738dcb"
   },
   "outputs": [
    {
     "data": {
      "text/plain": [
       "(1198, 60)"
      ]
     },
     "execution_count": 12,
     "metadata": {},
     "output_type": "execute_result"
    }
   ],
   "source": [
    "x_train.shape"
   ]
  },
  {
   "cell_type": "code",
   "execution_count": 13,
   "metadata": {},
   "outputs": [
    {
     "data": {
      "text/plain": [
       "array([[0.08581368, 0.09701243, 0.09433366, 0.09156187, 0.07984225,\n",
       "        0.0643277 , 0.0585423 , 0.06568569, 0.06109085, 0.06639259,\n",
       "        0.0614257 , 0.07474514, 0.02797827, 0.02379269, 0.02409033,\n",
       "        0.0159238 , 0.01078949, 0.00967334, 0.01642607, 0.02100231,\n",
       "        0.02280676, 0.02273235, 0.02810849, 0.03212665, 0.0433812 ,\n",
       "        0.04475779, 0.04790163, 0.0440695 , 0.04648783, 0.04745517,\n",
       "        0.04873875, 0.03936305, 0.04137213, 0.04034898, 0.04784582,\n",
       "        0.04325099, 0.04356723, 0.04286033, 0.04602277, 0.05398467,\n",
       "        0.05738894, 0.05714711, 0.05569611, 0.04421832, 0.04514845,\n",
       "        0.04605997, 0.04412531, 0.03675869, 0.04486941, 0.05065481,\n",
       "        0.05214302, 0.05612397, 0.05818885, 0.06540665, 0.06882953,\n",
       "        0.07243843, 0.07993526, 0.07846566, 0.08034452, 0.08497656],\n",
       "       [0.09701243, 0.09433366, 0.09156187, 0.07984225, 0.0643277 ,\n",
       "        0.0585423 , 0.06568569, 0.06109085, 0.06639259, 0.0614257 ,\n",
       "        0.07474514, 0.02797827, 0.02379269, 0.02409033, 0.0159238 ,\n",
       "        0.01078949, 0.00967334, 0.01642607, 0.02100231, 0.02280676,\n",
       "        0.02273235, 0.02810849, 0.03212665, 0.0433812 , 0.04475779,\n",
       "        0.04790163, 0.0440695 , 0.04648783, 0.04745517, 0.04873875,\n",
       "        0.03936305, 0.04137213, 0.04034898, 0.04784582, 0.04325099,\n",
       "        0.04356723, 0.04286033, 0.04602277, 0.05398467, 0.05738894,\n",
       "        0.05714711, 0.05569611, 0.04421832, 0.04514845, 0.04605997,\n",
       "        0.04412531, 0.03675869, 0.04486941, 0.05065481, 0.05214302,\n",
       "        0.05612397, 0.05818885, 0.06540665, 0.06882953, 0.07243843,\n",
       "        0.07993526, 0.07846566, 0.08034452, 0.08497656, 0.08627874]])"
      ]
     },
     "execution_count": 13,
     "metadata": {},
     "output_type": "execute_result"
    }
   ],
   "source": [
    "x_train[:2]"
   ]
  },
  {
   "cell_type": "code",
   "execution_count": 14,
   "metadata": {
    "_uuid": "28f5242c6f1961914d1f568e70228fd30c1cb7fa",
    "execution": {
     "iopub.execute_input": "2023-04-16T15:49:49.143874Z",
     "iopub.status.busy": "2023-04-16T15:49:49.143650Z",
     "iopub.status.idle": "2023-04-16T15:49:49.284103Z",
     "shell.execute_reply": "2023-04-16T15:49:49.283269Z",
     "shell.execute_reply.started": "2023-04-16T15:49:49.143826Z"
    },
    "id": "5OdhkT421IKC",
    "outputId": "4f49fdb9-f376-4b3a-86c5-4b19a2710435"
   },
   "outputs": [],
   "source": [
    "from keras.models import Sequential\n",
    "from keras.layers import Dense\n",
    "from keras.layers import LSTM\n"
   ]
  },
  {
   "cell_type": "code",
   "execution_count": 15,
   "metadata": {},
   "outputs": [],
   "source": [
    "x_train=x_train.reshape(1198,60,1)"
   ]
  },
  {
   "cell_type": "code",
   "execution_count": 16,
   "metadata": {
    "_uuid": "ed24d733423254641f134c0e84f44a8ce175589f",
    "execution": {
     "iopub.execute_input": "2023-04-16T15:49:49.285893Z",
     "iopub.status.busy": "2023-04-16T15:49:49.285589Z",
     "iopub.status.idle": "2023-04-16T15:49:49.619921Z",
     "shell.execute_reply": "2023-04-16T15:49:49.619152Z",
     "shell.execute_reply.started": "2023-04-16T15:49:49.285833Z"
    },
    "id": "Jwvy8p9M1IKC"
   },
   "outputs": [],
   "source": [
    "regressor = Sequential()\n",
    "regressor.add(LSTM(units = 50,return_sequences = True))\n",
    "regressor.add(LSTM(units = 50,return_sequences = True))\n",
    "regressor.add(LSTM(units = 50,return_sequences = True))\n",
    "regressor.add(LSTM(units = 50,return_sequences = False))"
   ]
  },
  {
   "cell_type": "code",
   "execution_count": 17,
   "metadata": {
    "_uuid": "2edc2684995e0033ae8a4997b61b92a66c5bceee",
    "execution": {
     "iopub.execute_input": "2023-04-16T15:49:50.540627Z",
     "iopub.status.busy": "2023-04-16T15:49:50.540227Z",
     "iopub.status.idle": "2023-04-16T15:49:50.565831Z",
     "shell.execute_reply": "2023-04-16T15:49:50.564761Z",
     "shell.execute_reply.started": "2023-04-16T15:49:50.540555Z"
    },
    "id": "ksQeEnkr1IKE"
   },
   "outputs": [],
   "source": [
    "regressor.add(Dense(units = 1))"
   ]
  },
  {
   "cell_type": "code",
   "execution_count": 18,
   "metadata": {
    "_uuid": "6681ff55d9a29b1ad0f37cdc82318fb2c8fbc0bd",
    "execution": {
     "iopub.execute_input": "2023-04-16T15:49:50.567880Z",
     "iopub.status.busy": "2023-04-16T15:49:50.567541Z",
     "iopub.status.idle": "2023-04-16T15:49:50.608044Z",
     "shell.execute_reply": "2023-04-16T15:49:50.607296Z",
     "shell.execute_reply.started": "2023-04-16T15:49:50.567809Z"
    },
    "id": "qh8beObo1IKE"
   },
   "outputs": [],
   "source": [
    "regressor.compile(optimizer = 'adam',loss = 'mean_squared_error')"
   ]
  },
  {
   "cell_type": "code",
   "execution_count": 19,
   "metadata": {
    "_uuid": "b0287226b32109016b659a8ba484b5eb51e0d61a",
    "execution": {
     "iopub.execute_input": "2023-04-16T15:49:50.610165Z",
     "iopub.status.busy": "2023-04-16T15:49:50.609798Z",
     "iopub.status.idle": "2023-04-16T16:04:57.726028Z",
     "shell.execute_reply": "2023-04-16T16:04:57.725271Z",
     "shell.execute_reply.started": "2023-04-16T15:49:50.610085Z"
    },
    "id": "Ocablh5f1IKF",
    "outputId": "404a980d-6dc6-41c3-b036-65c40bada917"
   },
   "outputs": [
    {
     "name": "stdout",
     "output_type": "stream",
     "text": [
      "Epoch 1/10\n",
      "38/38 [==============================] - 29s 151ms/step - loss: 0.0365\n",
      "Epoch 2/10\n",
      "38/38 [==============================] - 4s 114ms/step - loss: 0.0025\n",
      "Epoch 3/10\n",
      "38/38 [==============================] - 4s 114ms/step - loss: 0.0021\n",
      "Epoch 4/10\n",
      "38/38 [==============================] - 5s 128ms/step - loss: 0.0021\n",
      "Epoch 5/10\n",
      "38/38 [==============================] - 4s 114ms/step - loss: 0.0022\n",
      "Epoch 6/10\n",
      "38/38 [==============================] - 4s 114ms/step - loss: 0.0021\n",
      "Epoch 7/10\n",
      "38/38 [==============================] - 4s 117ms/step - loss: 0.0020\n",
      "Epoch 8/10\n",
      "38/38 [==============================] - 5s 123ms/step - loss: 0.0020\n",
      "Epoch 9/10\n",
      "38/38 [==============================] - 4s 114ms/step - loss: 0.0018\n",
      "Epoch 10/10\n",
      "38/38 [==============================] - 5s 118ms/step - loss: 0.0017\n"
     ]
    },
    {
     "data": {
      "text/plain": [
       "<keras.callbacks.History at 0x23ba74e8160>"
      ]
     },
     "execution_count": 19,
     "metadata": {},
     "output_type": "execute_result"
    }
   ],
   "source": [
    "regressor.fit(x_train,y_train,epochs = 10, batch_size = 32)"
   ]
  },
  {
   "cell_type": "code",
   "execution_count": 20,
   "metadata": {
    "_uuid": "16e063f81273faee696d9db103673ad2b88fda50",
    "execution": {
     "iopub.execute_input": "2023-04-16T16:04:57.729687Z",
     "iopub.status.busy": "2023-04-16T16:04:57.729440Z",
     "iopub.status.idle": "2023-04-16T16:04:57.744674Z",
     "shell.execute_reply": "2023-04-16T16:04:57.743901Z",
     "shell.execute_reply.started": "2023-04-16T16:04:57.729648Z"
    },
    "id": "WNDRMgd11IKF"
   },
   "outputs": [],
   "source": [
    "x_test_scaled=sc.transform(df_test[['Open']])"
   ]
  },
  {
   "cell_type": "code",
   "execution_count": 21,
   "metadata": {},
   "outputs": [],
   "source": [
    "X=np.vstack([X_scaled[-60:],x_test_scaled])\n"
   ]
  },
  {
   "cell_type": "code",
   "execution_count": 22,
   "metadata": {
    "_uuid": "6acd6a66dc0f9c013ea008c0d99734697757cae6",
    "execution": {
     "iopub.execute_input": "2023-04-16T16:04:57.746256Z",
     "iopub.status.busy": "2023-04-16T16:04:57.745787Z",
     "iopub.status.idle": "2023-04-16T16:04:57.755975Z",
     "shell.execute_reply": "2023-04-16T16:04:57.754830Z",
     "shell.execute_reply.started": "2023-04-16T16:04:57.746207Z"
    },
    "id": "5vA_Ob9q1IKF"
   },
   "outputs": [
    {
     "data": {
      "text/plain": [
       "(20, 60)"
      ]
     },
     "execution_count": 22,
     "metadata": {},
     "output_type": "execute_result"
    }
   ],
   "source": [
    "x_test=[]\n",
    "for i in range(20):\n",
    "    row=X[i:60+i,0]\n",
    " \n",
    "    x_test.append(row)\n",
    "\n",
    "x_test=np.array(x_test)\n",
    "x_test.shape"
   ]
  },
  {
   "cell_type": "code",
   "execution_count": 23,
   "metadata": {
    "_uuid": "b65a0a5b78f98a5ac13dee98e9738fd61426bfd0",
    "execution": {
     "iopub.execute_input": "2023-04-16T16:04:57.757513Z",
     "iopub.status.busy": "2023-04-16T16:04:57.757163Z",
     "iopub.status.idle": "2023-04-16T16:04:57.781725Z",
     "shell.execute_reply": "2023-04-16T16:04:57.780471Z",
     "shell.execute_reply.started": "2023-04-16T16:04:57.757447Z"
    },
    "id": "ky_gKEWb1IKF",
    "outputId": "d77c514b-33df-456e-d3f1-e425a47df94e"
   },
   "outputs": [],
   "source": [
    "x_test=np.array(x_test)"
   ]
  },
  {
   "cell_type": "code",
   "execution_count": 24,
   "metadata": {
    "_uuid": "31aa33ed70b08e71d0e8bfe4c1abae7901ab947d",
    "execution": {
     "iopub.execute_input": "2023-04-16T16:04:57.784181Z",
     "iopub.status.busy": "2023-04-16T16:04:57.783448Z",
     "iopub.status.idle": "2023-04-16T16:04:57.794852Z",
     "shell.execute_reply": "2023-04-16T16:04:57.793790Z",
     "shell.execute_reply.started": "2023-04-16T16:04:57.784113Z"
    },
    "id": "6ooO0_bw1IKG",
    "outputId": "1b588115-d540-4728-f89e-025747f8fc22"
   },
   "outputs": [
    {
     "data": {
      "text/plain": [
       "(20, 60)"
      ]
     },
     "execution_count": 24,
     "metadata": {},
     "output_type": "execute_result"
    }
   ],
   "source": [
    "x_test.shape"
   ]
  },
  {
   "cell_type": "code",
   "execution_count": null,
   "metadata": {
    "_uuid": "7d74568c439acc8dda77dc4365d4b413095508e1",
    "execution": {
     "iopub.execute_input": "2023-04-16T16:04:57.796404Z",
     "iopub.status.busy": "2023-04-16T16:04:57.796106Z",
     "iopub.status.idle": "2023-04-16T16:04:57.806365Z",
     "shell.execute_reply": "2023-04-16T16:04:57.804900Z",
     "shell.execute_reply.started": "2023-04-16T16:04:57.796346Z"
    },
    "id": "6-LfWO6x1IKG"
   },
   "outputs": [],
   "source": []
  },
  {
   "cell_type": "code",
   "execution_count": null,
   "metadata": {
    "_uuid": "17b170e861d1353ece8aec66f700886106da4aef",
    "execution": {
     "iopub.execute_input": "2023-04-16T16:04:57.808561Z",
     "iopub.status.busy": "2023-04-16T16:04:57.808019Z",
     "iopub.status.idle": "2023-04-16T16:04:57.825529Z",
     "shell.execute_reply": "2023-04-16T16:04:57.824462Z",
     "shell.execute_reply.started": "2023-04-16T16:04:57.808499Z"
    },
    "id": "OvOqcMuB1IKG",
    "outputId": "a64f0808-90d2-4d7b-8a33-e71a8249b269"
   },
   "outputs": [],
   "source": []
  },
  {
   "cell_type": "code",
   "execution_count": null,
   "metadata": {
    "_uuid": "b4003370fb6454d0493ef80b1b50ea34061de7bc",
    "execution": {
     "iopub.execute_input": "2023-04-16T16:04:57.828106Z",
     "iopub.status.busy": "2023-04-16T16:04:57.827410Z",
     "iopub.status.idle": "2023-04-16T16:04:57.836191Z",
     "shell.execute_reply": "2023-04-16T16:04:57.835355Z",
     "shell.execute_reply.started": "2023-04-16T16:04:57.828040Z"
    },
    "id": "-E3wpIDI1IKG",
    "outputId": "135f42c8-9f24-4233-a711-d3ac809ad31c"
   },
   "outputs": [],
   "source": []
  },
  {
   "cell_type": "code",
   "execution_count": null,
   "metadata": {
    "_uuid": "ef076f0fdbe6ec72d85e7326c3e8aa73fcbad667",
    "execution": {
     "iopub.execute_input": "2023-04-16T16:04:57.839607Z",
     "iopub.status.busy": "2023-04-16T16:04:57.837830Z",
     "iopub.status.idle": "2023-04-16T16:04:57.848615Z",
     "shell.execute_reply": "2023-04-16T16:04:57.847476Z",
     "shell.execute_reply.started": "2023-04-16T16:04:57.839529Z"
    },
    "id": "6baxBgJ-1IKG"
   },
   "outputs": [],
   "source": []
  },
  {
   "cell_type": "code",
   "execution_count": null,
   "metadata": {
    "_uuid": "1fa15b6bb87ff2da8a730a6e1de20d5e5baf1571",
    "execution": {
     "iopub.execute_input": "2023-04-16T16:04:57.852569Z",
     "iopub.status.busy": "2023-04-16T16:04:57.851962Z",
     "iopub.status.idle": "2023-04-16T16:04:57.865322Z",
     "shell.execute_reply": "2023-04-16T16:04:57.863978Z",
     "shell.execute_reply.started": "2023-04-16T16:04:57.852501Z"
    },
    "id": "2W8tykWc1IKG",
    "outputId": "75e7cd9b-6bd5-4f42-e2b2-f741af7795dc"
   },
   "outputs": [],
   "source": []
  },
  {
   "cell_type": "code",
   "execution_count": 25,
   "metadata": {},
   "outputs": [],
   "source": [
    "x_test=x_test.reshape(20,60,1)"
   ]
  },
  {
   "cell_type": "code",
   "execution_count": 26,
   "metadata": {
    "_uuid": "b244d0115671f29d46d2cb290f92e6a0fe38bc1d",
    "execution": {
     "iopub.execute_input": "2023-04-16T16:04:57.867419Z",
     "iopub.status.busy": "2023-04-16T16:04:57.866843Z",
     "iopub.status.idle": "2023-04-16T16:04:57.877135Z",
     "shell.execute_reply": "2023-04-16T16:04:57.876415Z",
     "shell.execute_reply.started": "2023-04-16T16:04:57.867355Z"
    },
    "id": "uVbCU3qL1IKI",
    "outputId": "2cac0d29-dbc5-4a01-9b49-a50c38c23c51"
   },
   "outputs": [
    {
     "data": {
      "text/plain": [
       "(20, 60, 1)"
      ]
     },
     "execution_count": 26,
     "metadata": {},
     "output_type": "execute_result"
    }
   ],
   "source": [
    "x_test = np.reshape(x_test, (x_test.shape[0],x_test.shape[1],1))\n",
    "x_test.shape"
   ]
  },
  {
   "cell_type": "code",
   "execution_count": 27,
   "metadata": {
    "_uuid": "24730042bdad3a140e033a78ae9b170304f8cefb",
    "execution": {
     "iopub.execute_input": "2023-04-16T16:04:57.879478Z",
     "iopub.status.busy": "2023-04-16T16:04:57.878814Z",
     "iopub.status.idle": "2023-04-16T16:04:58.515667Z",
     "shell.execute_reply": "2023-04-16T16:04:58.514672Z",
     "shell.execute_reply.started": "2023-04-16T16:04:57.879404Z"
    },
    "id": "A_7oraCZ1IKI"
   },
   "outputs": [
    {
     "name": "stdout",
     "output_type": "stream",
     "text": [
      "1/1 [==============================] - 6s 6s/step\n"
     ]
    }
   ],
   "source": [
    "yp=regressor.predict(x_test)"
   ]
  },
  {
   "cell_type": "code",
   "execution_count": 28,
   "metadata": {
    "_uuid": "4b06462fa06e7399373d8a552cd159176fbeef33",
    "execution": {
     "iopub.execute_input": "2023-04-16T16:04:58.516895Z",
     "iopub.status.busy": "2023-04-16T16:04:58.516646Z",
     "iopub.status.idle": "2023-04-16T16:04:58.527545Z",
     "shell.execute_reply": "2023-04-16T16:04:58.526619Z",
     "shell.execute_reply.started": "2023-04-16T16:04:58.516854Z"
    },
    "id": "Pv6R25sQ1IKI",
    "outputId": "ea25caa0-5a12-42bd-b78a-d2d0e6d37260"
   },
   "outputs": [
    {
     "data": {
      "text/plain": [
       "array([[0.956254  ],\n",
       "       [0.9579193 ],\n",
       "       [0.9587366 ],\n",
       "       [0.9588253 ],\n",
       "       [0.95842886],\n",
       "       [0.9579023 ],\n",
       "       [0.95755804],\n",
       "       [0.9575902 ],\n",
       "       [0.9581224 ],\n",
       "       [0.9591931 ],\n",
       "       [0.96076685],\n",
       "       [0.9627443 ],\n",
       "       [0.9649919 ],\n",
       "       [0.9673867 ],\n",
       "       [0.9698183 ],\n",
       "       [0.9723563 ],\n",
       "       [0.97513664],\n",
       "       [0.9783413 ],\n",
       "       [0.9820446 ],\n",
       "       [0.9860173 ]], dtype=float32)"
      ]
     },
     "execution_count": 28,
     "metadata": {},
     "output_type": "execute_result"
    }
   ],
   "source": [
    "yp"
   ]
  },
  {
   "cell_type": "code",
   "execution_count": 29,
   "metadata": {},
   "outputs": [
    {
     "data": {
      "text/plain": [
       "[<matplotlib.lines.Line2D at 0x23bb2527e50>]"
      ]
     },
     "execution_count": 29,
     "metadata": {},
     "output_type": "execute_result"
    },
    {
     "data": {
      "image/png": "[encoded data removed]",
      "text/plain": [
       "<Figure size 432x288 with 1 Axes>"
      ]
     },
     "metadata": {
      "needs_background": "light"
     },
     "output_type": "display_data"
    }
   ],
   "source": [
    "plt.plot(df_test['Open'],c='red')\n",
    "plt.plot(sc.inverse_transform(yp),c='blue')"
   ]
  },
  {
   "cell_type": "code",
   "execution_count": 30,
   "metadata": {
    "_uuid": "e8b30d578fafb1564da4448efb1f994537f6f588",
    "execution": {
     "iopub.execute_input": "2023-04-16T16:04:58.529462Z",
     "iopub.status.busy": "2023-04-16T16:04:58.528911Z",
     "iopub.status.idle": "2023-04-16T16:04:58.815632Z",
     "shell.execute_reply": "2023-04-16T16:04:58.814220Z",
     "shell.execute_reply.started": "2023-04-16T16:04:58.529397Z"
    },
    "id": "YgCHNHZh1IKI",
    "outputId": "3fd86fea-8f90-4146-8415-07f525f80dfe"
   },
   "outputs": [
    {
     "data": {
      "text/plain": [
       "array([[793.1639 ],\n",
       "       [794.0591 ],\n",
       "       [794.4985 ],\n",
       "       [794.54614],\n",
       "       [794.333  ],\n",
       "       [794.0499 ],\n",
       "       [793.86487],\n",
       "       [793.8822 ],\n",
       "       [794.1682 ],\n",
       "       [794.74384],\n",
       "       [795.58984],\n",
       "       [796.65283],\n",
       "       [797.861  ],\n",
       "       [799.1484 ],\n",
       "       [800.4555 ],\n",
       "       [801.8198 ],\n",
       "       [803.31445],\n",
       "       [805.0372 ],\n",
       "       [807.02783],\n",
       "       [809.16345]], dtype=float32)"
      ]
     },
     "execution_count": 30,
     "metadata": {},
     "output_type": "execute_result"
    }
   ],
   "source": [
    "sc.inverse_transform(yp)"
   ]
  },
  {
   "cell_type": "code",
   "execution_count": 30,
   "metadata": {},
   "outputs": [],
   "source": []
  },
  {
   "cell_type": "code",
   "execution_count": 31,
   "metadata": {},
   "outputs": [
    {
     "data": {
      "text/plain": [
       "array([0.956254  , 0.9579193 , 0.9587366 , 0.9588253 , 0.95842886,\n",
       "       0.9579023 , 0.95755804, 0.9575902 , 0.9581224 , 0.9591931 ,\n",
       "       0.96076685, 0.9627443 , 0.9649919 , 0.9673867 , 0.9698183 ,\n",
       "       0.9723563 , 0.97513664, 0.9783413 , 0.9820446 , 0.9860173 ],\n",
       "      dtype=float32)"
      ]
     },
     "execution_count": 31,
     "metadata": {},
     "output_type": "execute_result"
    }
   ],
   "source": [
    "yp[:,0]"
   ]
  },
  {
   "cell_type": "code",
   "execution_count": null,
   "metadata": {},
   "outputs": [],
   "source": []
  },
  {
   "cell_type": "code",
   "execution_count": null,
   "metadata": {},
   "outputs": [],
   "source": []
  },
  {
   "cell_type": "code",
   "execution_count": 33,
   "metadata": {},
   "outputs": [
    {
     "data": {
      "image/png": "[encoded data removed]",
      "text/plain": [
       "<Figure size 432x288 with 1 Axes>"
      ]
     },
     "metadata": {
      "needs_background": "light"
     },
     "output_type": "display_data"
    }
   ],
   "source": [
    "plt.plot(x_test_scaled,color = 'red', label = 'Real Price')\n",
    "plt.plot(yp[:,0], color = 'blue', label = 'Predicted Price')\n",
    "plt.title('Google Stock Price Prediction')\n",
    "plt.xlabel('Time')\n",
    "plt.ylabel('Google Stock Price')\n",
    "plt.legend()\n",
    "plt.show()"
   ]
  },
  {
   "cell_type": "code",
   "execution_count": null,
   "metadata": {},
   "outputs": [],
   "source": []
  }
 ],
 "metadata": {
  "colab": {
   "provenance": []
  },
  "kernelspec": {
   "display_name": "Python 3",
   "language": "python",
   "name": "python3"
  }
 },
 "nbformat": 4,
 "nbformat_minor": 1
}
